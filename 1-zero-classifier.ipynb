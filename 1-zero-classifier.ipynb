{
  "cells": [
    {
      "cell_type": "markdown",
      "metadata": {
        "id": "xbPjWoC-1QdB"
      },
      "source": [
        "[![Open In Colab](https://colab.research.google.com/assets/colab-badge.svg)](https://colab.research.google.com/github/florpi/from-zero-to-generative/blob/main/1-zero-classifier.ipynb)"
      ]
    },
    {
      "cell_type": "markdown",
      "metadata": {
        "id": "qk3p3IY-1QdF"
      },
      "source": [
        "## 🛠️ Setting Up Our Toolbox\n",
        "\n",
        "We'll be using the following packages throughout this notebook:\n",
        "\n",
        "- `jax`: Our high-performance numerical computing library\n",
        "- `flax`: A neural network library designed for flexibility\n",
        "- `torchvision`: A library for computer vision problems\n",
        "- `numpy`: The swiss army knife of numerical computing\n",
        "- `matplotlib`: For visualizing our creations\n",
        "- `optax`: Optimizers for JAX\n",
        "\n",
        "Let's install them all in one go:"
      ]
    },
    {
      "cell_type": "code",
      "execution_count": 44,
      "metadata": {
        "id": "gD5yu17s1QdI",
        "outputId": "14cc9075-18d3-43d9-8519-1d2de5250138",
        "colab": {
          "base_uri": "https://localhost:8080/"
        }
      },
      "outputs": [
        {
          "output_type": "stream",
          "name": "stdout",
          "text": [
            "Requirement already satisfied: jax in /usr/local/lib/python3.11/dist-packages (0.5.2)\n",
            "Requirement already satisfied: jaxlib in /usr/local/lib/python3.11/dist-packages (0.5.1)\n",
            "Requirement already satisfied: flax in /usr/local/lib/python3.11/dist-packages (0.10.6)\n",
            "Requirement already satisfied: torchvision in /usr/local/lib/python3.11/dist-packages (0.21.0+cu124)\n",
            "Requirement already satisfied: torch in /usr/local/lib/python3.11/dist-packages (2.6.0+cu124)\n",
            "Requirement already satisfied: numpy in /usr/local/lib/python3.11/dist-packages (2.0.2)\n",
            "Requirement already satisfied: matplotlib in /usr/local/lib/python3.11/dist-packages (3.10.0)\n",
            "Requirement already satisfied: optax in /usr/local/lib/python3.11/dist-packages (0.2.5)\n",
            "Requirement already satisfied: ml_dtypes>=0.4.0 in /usr/local/lib/python3.11/dist-packages (from jax) (0.4.1)\n",
            "Requirement already satisfied: opt_einsum in /usr/local/lib/python3.11/dist-packages (from jax) (3.4.0)\n",
            "Requirement already satisfied: scipy>=1.11.1 in /usr/local/lib/python3.11/dist-packages (from jax) (1.15.3)\n",
            "Requirement already satisfied: msgpack in /usr/local/lib/python3.11/dist-packages (from flax) (1.1.1)\n",
            "Requirement already satisfied: orbax-checkpoint in /usr/local/lib/python3.11/dist-packages (from flax) (0.11.16)\n",
            "Requirement already satisfied: tensorstore in /usr/local/lib/python3.11/dist-packages (from flax) (0.1.74)\n",
            "Requirement already satisfied: rich>=11.1 in /usr/local/lib/python3.11/dist-packages (from flax) (13.9.4)\n",
            "Requirement already satisfied: typing_extensions>=4.2 in /usr/local/lib/python3.11/dist-packages (from flax) (4.14.0)\n",
            "Requirement already satisfied: PyYAML>=5.4.1 in /usr/local/lib/python3.11/dist-packages (from flax) (6.0.2)\n",
            "Requirement already satisfied: treescope>=0.1.7 in /usr/local/lib/python3.11/dist-packages (from flax) (0.1.9)\n",
            "Requirement already satisfied: pillow!=8.3.*,>=5.3.0 in /usr/local/lib/python3.11/dist-packages (from torchvision) (11.2.1)\n",
            "Requirement already satisfied: filelock in /usr/local/lib/python3.11/dist-packages (from torch) (3.18.0)\n",
            "Requirement already satisfied: networkx in /usr/local/lib/python3.11/dist-packages (from torch) (3.5)\n",
            "Requirement already satisfied: jinja2 in /usr/local/lib/python3.11/dist-packages (from torch) (3.1.6)\n",
            "Requirement already satisfied: fsspec in /usr/local/lib/python3.11/dist-packages (from torch) (2025.3.2)\n",
            "Requirement already satisfied: nvidia-cuda-nvrtc-cu12==12.4.127 in /usr/local/lib/python3.11/dist-packages (from torch) (12.4.127)\n",
            "Requirement already satisfied: nvidia-cuda-runtime-cu12==12.4.127 in /usr/local/lib/python3.11/dist-packages (from torch) (12.4.127)\n",
            "Requirement already satisfied: nvidia-cuda-cupti-cu12==12.4.127 in /usr/local/lib/python3.11/dist-packages (from torch) (12.4.127)\n",
            "Requirement already satisfied: nvidia-cudnn-cu12==9.1.0.70 in /usr/local/lib/python3.11/dist-packages (from torch) (9.1.0.70)\n",
            "Requirement already satisfied: nvidia-cublas-cu12==12.4.5.8 in /usr/local/lib/python3.11/dist-packages (from torch) (12.4.5.8)\n",
            "Requirement already satisfied: nvidia-cufft-cu12==11.2.1.3 in /usr/local/lib/python3.11/dist-packages (from torch) (11.2.1.3)\n",
            "Requirement already satisfied: nvidia-curand-cu12==10.3.5.147 in /usr/local/lib/python3.11/dist-packages (from torch) (10.3.5.147)\n",
            "Requirement already satisfied: nvidia-cusolver-cu12==11.6.1.9 in /usr/local/lib/python3.11/dist-packages (from torch) (11.6.1.9)\n",
            "Requirement already satisfied: nvidia-cusparse-cu12==12.3.1.170 in /usr/local/lib/python3.11/dist-packages (from torch) (12.3.1.170)\n",
            "Requirement already satisfied: nvidia-cusparselt-cu12==0.6.2 in /usr/local/lib/python3.11/dist-packages (from torch) (0.6.2)\n",
            "Requirement already satisfied: nvidia-nccl-cu12==2.21.5 in /usr/local/lib/python3.11/dist-packages (from torch) (2.21.5)\n",
            "Requirement already satisfied: nvidia-nvtx-cu12==12.4.127 in /usr/local/lib/python3.11/dist-packages (from torch) (12.4.127)\n",
            "Requirement already satisfied: nvidia-nvjitlink-cu12==12.4.127 in /usr/local/lib/python3.11/dist-packages (from torch) (12.4.127)\n",
            "Requirement already satisfied: triton==3.2.0 in /usr/local/lib/python3.11/dist-packages (from torch) (3.2.0)\n",
            "Requirement already satisfied: sympy==1.13.1 in /usr/local/lib/python3.11/dist-packages (from torch) (1.13.1)\n",
            "Requirement already satisfied: mpmath<1.4,>=1.1.0 in /usr/local/lib/python3.11/dist-packages (from sympy==1.13.1->torch) (1.3.0)\n",
            "Requirement already satisfied: contourpy>=1.0.1 in /usr/local/lib/python3.11/dist-packages (from matplotlib) (1.3.2)\n",
            "Requirement already satisfied: cycler>=0.10 in /usr/local/lib/python3.11/dist-packages (from matplotlib) (0.12.1)\n",
            "Requirement already satisfied: fonttools>=4.22.0 in /usr/local/lib/python3.11/dist-packages (from matplotlib) (4.58.4)\n",
            "Requirement already satisfied: kiwisolver>=1.3.1 in /usr/local/lib/python3.11/dist-packages (from matplotlib) (1.4.8)\n",
            "Requirement already satisfied: packaging>=20.0 in /usr/local/lib/python3.11/dist-packages (from matplotlib) (24.2)\n",
            "Requirement already satisfied: pyparsing>=2.3.1 in /usr/local/lib/python3.11/dist-packages (from matplotlib) (3.2.3)\n",
            "Requirement already satisfied: python-dateutil>=2.7 in /usr/local/lib/python3.11/dist-packages (from matplotlib) (2.9.0.post0)\n",
            "Requirement already satisfied: absl-py>=0.7.1 in /usr/local/lib/python3.11/dist-packages (from optax) (1.4.0)\n",
            "Requirement already satisfied: chex>=0.1.87 in /usr/local/lib/python3.11/dist-packages (from optax) (0.1.89)\n",
            "Requirement already satisfied: toolz>=0.9.0 in /usr/local/lib/python3.11/dist-packages (from chex>=0.1.87->optax) (0.12.1)\n",
            "Requirement already satisfied: six>=1.5 in /usr/local/lib/python3.11/dist-packages (from python-dateutil>=2.7->matplotlib) (1.17.0)\n",
            "Requirement already satisfied: markdown-it-py>=2.2.0 in /usr/local/lib/python3.11/dist-packages (from rich>=11.1->flax) (3.0.0)\n",
            "Requirement already satisfied: pygments<3.0.0,>=2.13.0 in /usr/local/lib/python3.11/dist-packages (from rich>=11.1->flax) (2.19.2)\n",
            "Requirement already satisfied: MarkupSafe>=2.0 in /usr/local/lib/python3.11/dist-packages (from jinja2->torch) (3.0.2)\n",
            "Requirement already satisfied: etils[epath,epy] in /usr/local/lib/python3.11/dist-packages (from orbax-checkpoint->flax) (1.12.2)\n",
            "Requirement already satisfied: nest_asyncio in /usr/local/lib/python3.11/dist-packages (from orbax-checkpoint->flax) (1.6.0)\n",
            "Requirement already satisfied: protobuf in /usr/local/lib/python3.11/dist-packages (from orbax-checkpoint->flax) (5.29.5)\n",
            "Requirement already satisfied: humanize in /usr/local/lib/python3.11/dist-packages (from orbax-checkpoint->flax) (4.12.3)\n",
            "Requirement already satisfied: simplejson>=3.16.0 in /usr/local/lib/python3.11/dist-packages (from orbax-checkpoint->flax) (3.20.1)\n",
            "Requirement already satisfied: mdurl~=0.1 in /usr/local/lib/python3.11/dist-packages (from markdown-it-py>=2.2.0->rich>=11.1->flax) (0.1.2)\n",
            "Requirement already satisfied: importlib_resources in /usr/local/lib/python3.11/dist-packages (from etils[epath,epy]->orbax-checkpoint->flax) (6.5.2)\n",
            "Requirement already satisfied: zipp in /usr/local/lib/python3.11/dist-packages (from etils[epath,epy]->orbax-checkpoint->flax) (3.23.0)\n"
          ]
        }
      ],
      "source": [
        "!pip install jax jaxlib flax torchvision torch numpy matplotlib optax"
      ]
    },
    {
      "cell_type": "code",
      "execution_count": 45,
      "metadata": {
        "id": "dmwGfjnk1QdJ",
        "outputId": "d14fdc4e-3226-4c79-dcb3-aa32e7cc0efb",
        "colab": {
          "base_uri": "https://localhost:8080/"
        }
      },
      "outputs": [
        {
          "output_type": "stream",
          "name": "stdout",
          "text": [
            "[CpuDevice(id=0)]\n"
          ]
        }
      ],
      "source": [
        "# as opposed to pytorch, jax handles device (gpu or cpu) placement automatically\n",
        "# Now let's check whether you are actually using a gpu, if so, the output should be a cuda id, otherwise you are using a cpu\n",
        "# for this problem, it doesn't really matter since we will train a small neural network\n",
        "\n",
        "import jax\n",
        "print(jax.devices())"
      ]
    },
    {
      "cell_type": "markdown",
      "metadata": {
        "id": "EycBmuex1QdK"
      },
      "source": [
        "## 🔢 Training a Digit Classifier: Decoding Doctor's Handwriting\n",
        "\n",
        "Ever squinted at a prescription, trying to decipher if that's a 5 or a 6? You're not alone! Doctors' notoriously illegible handwriting has been the subject of jokes and genuine concern for years. Our task is to create a handwritten digit classifier using machine learning.\n",
        "\n"
      ]
    },
    {
      "cell_type": "markdown",
      "metadata": {
        "id": "V_LC2sf21QdM"
      },
      "source": [
        "## 🧱 Building Block #1: The Data\n",
        "\n",
        "Every great AI needs a solid foundation, and in machine learning, that foundation is data. Machine Learning has been largely shaped by benchmarks - standardized datasets that serve as proving grounds for new algorithms. These datasets, along with their associated metrics, have driven the field forward by providing common challenges for researchers to tackle. Today, we'll be working with the MNIST dataset - the \"Hello World\" of machine learning.\n",
        "\n",
        "> 🎓 **MNIST History**: MNIST (Modified National Institute of Standards and Technology database) is a large database of handwritten digits that has been used for training and testing in the field of machine learning since its creation in 1998. It's often called the \"Drosophila of machine learning\" - just as the fruit fly is a model organism in biology!\n",
        "\n",
        "### 🎨 Other Exciting Datasets\n",
        "\n",
        "Once you've mastered MNIST, here are some other fun datasets you might want to explore:\n",
        "\n",
        "- 😀 [FER2013](https://pytorch.org/vision/main/generated/torchvision.datasets.FER2013.html): For those interested in facial expressions\n",
        "- ✍️ [KMNIST](https://pytorch.org/vision/main/generated/torchvision.datasets.KMNIST.html): Beautiful cursive Japanese characters\n",
        "- 🍔 [Food101](https://pytorch.org/vision/main/generated/torchvision.datasets.Food101.html): For the foodies out there\n",
        "- 🦁 [INaturalist](https://pytorch.org/vision/main/generated/torchvision.datasets.INaturalist.html): A treasure trove for nature lovers\n",
        "\n",
        "---\n",
        "\n",
        "And now let's dive in! 🏗️💻\n",
        "\n",
        "Pay attention to the #TODOs, since these will mark the code you need to complete\n"
      ]
    },
    {
      "cell_type": "code",
      "execution_count": 46,
      "metadata": {
        "id": "ypdQaa3e1QdM"
      },
      "outputs": [],
      "source": [
        "import torchvision\n",
        "import torchvision.transforms as transforms\n",
        "import numpy as np\n",
        "import jax.numpy as jnp\n",
        "\n",
        "# These transformations are applied to the data as it is loaded, do not worry too much about them,\n",
        "# but I leave some explanations on why they are there for you to understand in case you are curious / confused\n",
        "\n",
        "transform = transforms.Compose(\n",
        "    (\n",
        "        transforms.ToTensor(), # This will transform the original data format of the images into pytorch tensors,\n",
        "        # so that we can use the Normalize transform on them\n",
        "        transforms.Normalize((0.5,), (0.5,)), # The images are originally scaled between 0 and 1,\n",
        "        # but generative models would usually standarize them to have 0 mean and 1 std\n",
        "        transforms.Lambda(lambda x: np.transpose(np.array(x), (1,2,0))), # we will convert pytorch tensors into jax obejects.\n",
        "        # An odd distinction between jax and pytorch is how they assume image data is formatted.\n",
        "        # # For pytorch an image has shape (n_channels, n_pixels, n_pixels),\n",
        "        #  whereas for jax it should be (n_pixels, n_pixels, n_channels), hence the transpose...\n",
        "    )\n",
        ")\n",
        "# Now we will create a dataset that can download and obtain the data we want\n",
        "train_dataset = torchvision.datasets.MNIST(root='./data', train=True, download=True, transform=transform)\n"
      ]
    },
    {
      "cell_type": "code",
      "execution_count": 47,
      "metadata": {
        "id": "akWxdbDj1QdN"
      },
      "outputs": [],
      "source": [
        "# this is how we can get one example from our dataset\n",
        "image, target = train_dataset[0]"
      ]
    },
    {
      "cell_type": "code",
      "execution_count": 48,
      "metadata": {
        "id": "B0TWD0IS1QdN",
        "outputId": "31a9cee6-95fe-482a-a812-19796d934229",
        "colab": {
          "base_uri": "https://localhost:8080/"
        }
      },
      "outputs": [
        {
          "output_type": "execute_result",
          "data": {
            "text/plain": [
              "5"
            ]
          },
          "metadata": {},
          "execution_count": 48
        }
      ],
      "source": [
        "# the label of the example\n",
        "target"
      ]
    },
    {
      "cell_type": "code",
      "execution_count": 49,
      "metadata": {
        "id": "ZeTZr8a-1QdO",
        "outputId": "b340f9ac-ba16-4baa-f180-6251e3658e32",
        "colab": {
          "base_uri": "https://localhost:8080/"
        }
      },
      "outputs": [
        {
          "output_type": "execute_result",
          "data": {
            "text/plain": [
              "(28, 28, 1)"
            ]
          },
          "metadata": {},
          "execution_count": 49
        }
      ],
      "source": [
        "# the shape of the example. This is an image with one channel (grayscale) and 28 pixels\n",
        "\n",
        "image.shape"
      ]
    },
    {
      "cell_type": "code",
      "execution_count": 50,
      "metadata": {
        "id": "azCHKIFP1QdP",
        "outputId": "c16ba160-8e68-4833-a655-ed1526bdaadc",
        "colab": {
          "base_uri": "https://localhost:8080/",
          "height": 469
        }
      },
      "outputs": [
        {
          "output_type": "execute_result",
          "data": {
            "text/plain": [
              "Text(0.5, 1.0, 'Target = 5')"
            ]
          },
          "metadata": {},
          "execution_count": 50
        },
        {
          "output_type": "display_data",
          "data": {
            "text/plain": [
              "<Figure size 640x480 with 1 Axes>"
            ],
            "image/png": "[encoded data removed]"
          },
          "metadata": {}
        }
      ],
      "source": [
        "# and let's have a look at the image using matplotlib\n",
        "#TODO always check your data loader and make sure the labels seem sensible by visual inspection,\n",
        "# here, play with index to see different images\n",
        "\n",
        "index = 0\n",
        "image, target = train_dataset[index]\n",
        "\n",
        "import matplotlib.pyplot as plt\n",
        "plt.imshow(image[:,:,0], cmap='gray')\n",
        "plt.title(f'Target = {target}')"
      ]
    },
    {
      "cell_type": "code",
      "execution_count": 51,
      "metadata": {
        "id": "LEbQVc9F1QdR"
      },
      "outputs": [],
      "source": [
        "# but we want to get batches (groups) of examples from the training set, for that we will need a data loader\n",
        "# that randomly loads batches of examples:\n",
        "from torch.utils.data import DataLoader\n",
        "batch_size = 64\n",
        "train_dataloader = DataLoader(train_dataset, batch_size=batch_size, shuffle=True, drop_last=True)\n",
        "\n",
        "train_loader = iter(train_dataloader)"
      ]
    },
    {
      "cell_type": "code",
      "execution_count": 52,
      "metadata": {
        "id": "BVdQrf8t1QdR"
      },
      "outputs": [],
      "source": [
        "# Now when we call batch, we get a fresh batch of data and labels\n",
        "x_batch, y_batch = next(train_loader)"
      ]
    },
    {
      "cell_type": "code",
      "execution_count": 53,
      "metadata": {
        "id": "6f7OSKSv1QdS"
      },
      "outputs": [],
      "source": [
        "x_batch.shape\n",
        "\n",
        "#TODO: what shape do you expect x_batch to have? Write down your guess for expected_shape here\n",
        "\n",
        "expected_shape = (64,28,28,1)\n",
        "assert x_batch.shape == expected_shape"
      ]
    },
    {
      "cell_type": "markdown",
      "metadata": {
        "id": "wDo8AfDZ1QdT"
      },
      "source": [
        "## 🏗️ Building Block #2: The Model Architecture\n",
        "\n",
        "Now that we have our data foundation, it's time to design the structure of our model. For our first venture into the world of neural architectures, we're going to keep things elegantly simple. We'll be constructing a Fully Connected Network, also known as a Dense Network or Multi-Layer Perceptron (MLP).\n",
        "\n"
      ]
    },
    {
      "cell_type": "code",
      "execution_count": 54,
      "metadata": {
        "id": "7dgpsXfD1QdU"
      },
      "outputs": [],
      "source": [
        "\n",
        "\n",
        "import flax.linen as nn\n",
        "\n",
        "class MLP(nn.Module):\n",
        "    @nn.compact\n",
        "    def __call__(self, x):\n",
        "        x = x.reshape((x.shape[0], -1))  # Flatten the input\n",
        "\n",
        "        #TODO : Write a multi layer perceptron using jax, apply dense layers and non-linearities,\n",
        "        # until you reach the desired output size\n",
        "\n",
        "        x = nn.Dense(features=512)(x)\n",
        "        x = nn.silu(x)\n",
        "        x = nn.Dense(features=256)(x)\n",
        "        x = nn.silu(x)\n",
        "        x = nn.Dense(features=10)(x)\n",
        "        x = nn.silu(x)\n",
        "\n",
        "        return x\n",
        "\n",
        "model = MLP()"
      ]
    },
    {
      "cell_type": "markdown",
      "metadata": {
        "id": "N5ToHdT81QdV"
      },
      "source": [
        "### 🎲 Initializing the Parameters\n",
        "\n",
        "Our neural network now needs its parameters (weights and biases) initialized properly. This is crucial because:\n",
        "\n",
        "- Good initialization can help our model learn faster\n",
        "- It can prevent issues like vanishing or exploding gradients\n",
        "- Different initializations can lead to different final performances\n",
        "\n",
        "### 🔮 JAX's Magic: Shape Inference and Initialization\n",
        "\n",
        "JAX comes with some nifty features that make building and initializing networks easy peasy:\n",
        "\n",
        "1. **Shape Inference**:\n",
        "   - JAX can automatically figure out the shapes of your layers\n",
        "   - You often only need to specify the output size of each layer\n",
        "\n",
        "2. **Easy Initialization**:\n",
        "   - JAX provides initialization functions in `jax.nn.initializers`\n",
        "   - These functions create initializer closures that JAX uses to set initial parameter values\n",
        "\n",
        "All we need is an example input, it doesn't matter its content, only its shape"
      ]
    },
    {
      "cell_type": "code",
      "execution_count": 55,
      "metadata": {
        "id": "do_n-jjl1QdW"
      },
      "outputs": [],
      "source": [
        "\n",
        "example_input = jnp.ones((1,28,28,1))\n",
        "params = model.init(jax.random.PRNGKey(0), example_input)  # Example input for shape inference\n"
      ]
    },
    {
      "cell_type": "code",
      "execution_count": 56,
      "metadata": {
        "id": "V_wkolLG1QdX",
        "outputId": "99a27e9f-3204-4c41-90d0-dfc62756a202",
        "colab": {
          "base_uri": "https://localhost:8080/"
        }
      },
      "outputs": [
        {
          "output_type": "execute_result",
          "data": {
            "text/plain": [
              "{'params': {'Dense_0': {'kernel': Array([[-0.05899283,  0.02694826, -0.04920536, ...,  0.05293333,\n",
              "           -0.04297012, -0.0074105 ],\n",
              "          [ 0.06052158, -0.0360149 ,  0.00415989, ...,  0.01315674,\n",
              "            0.03314576, -0.02526655],\n",
              "          [-0.03581408, -0.03262659,  0.003547  , ..., -0.00937167,\n",
              "            0.01284196, -0.00602232],\n",
              "          ...,\n",
              "          [ 0.06376947, -0.04653723,  0.00900101, ..., -0.02461025,\n",
              "            0.05713332, -0.02713051],\n",
              "          [-0.01971824, -0.01390111, -0.05323231, ..., -0.0161783 ,\n",
              "           -0.02085836, -0.01208941],\n",
              "          [ 0.01776986,  0.03378449,  0.03138046, ..., -0.01248015,\n",
              "           -0.04162059,  0.06162314]], dtype=float32),\n",
              "   'bias': Array([0., 0., 0., 0., 0., 0., 0., 0., 0., 0., 0., 0., 0., 0., 0., 0., 0.,\n",
              "          0., 0., 0., 0., 0., 0., 0., 0., 0., 0., 0., 0., 0., 0., 0., 0., 0.,\n",
              "          0., 0., 0., 0., 0., 0., 0., 0., 0., 0., 0., 0., 0., 0., 0., 0., 0.,\n",
              "          0., 0., 0., 0., 0., 0., 0., 0., 0., 0., 0., 0., 0., 0., 0., 0., 0.,\n",
              "          0., 0., 0., 0., 0., 0., 0., 0., 0., 0., 0., 0., 0., 0., 0., 0., 0.,\n",
              "          0., 0., 0., 0., 0., 0., 0., 0., 0., 0., 0., 0., 0., 0., 0., 0., 0.,\n",
              "          0., 0., 0., 0., 0., 0., 0., 0., 0., 0., 0., 0., 0., 0., 0., 0., 0.,\n",
              "          0., 0., 0., 0., 0., 0., 0., 0., 0., 0., 0., 0., 0., 0., 0., 0., 0.,\n",
              "          0., 0., 0., 0., 0., 0., 0., 0., 0., 0., 0., 0., 0., 0., 0., 0., 0.,\n",
              "          0., 0., 0., 0., 0., 0., 0., 0., 0., 0., 0., 0., 0., 0., 0., 0., 0.,\n",
              "          0., 0., 0., 0., 0., 0., 0., 0., 0., 0., 0., 0., 0., 0., 0., 0., 0.,\n",
              "          0., 0., 0., 0., 0., 0., 0., 0., 0., 0., 0., 0., 0., 0., 0., 0., 0.,\n",
              "          0., 0., 0., 0., 0., 0., 0., 0., 0., 0., 0., 0., 0., 0., 0., 0., 0.,\n",
              "          0., 0., 0., 0., 0., 0., 0., 0., 0., 0., 0., 0., 0., 0., 0., 0., 0.,\n",
              "          0., 0., 0., 0., 0., 0., 0., 0., 0., 0., 0., 0., 0., 0., 0., 0., 0.,\n",
              "          0., 0., 0., 0., 0., 0., 0., 0., 0., 0., 0., 0., 0., 0., 0., 0., 0.,\n",
              "          0., 0., 0., 0., 0., 0., 0., 0., 0., 0., 0., 0., 0., 0., 0., 0., 0.,\n",
              "          0., 0., 0., 0., 0., 0., 0., 0., 0., 0., 0., 0., 0., 0., 0., 0., 0.,\n",
              "          0., 0., 0., 0., 0., 0., 0., 0., 0., 0., 0., 0., 0., 0., 0., 0., 0.,\n",
              "          0., 0., 0., 0., 0., 0., 0., 0., 0., 0., 0., 0., 0., 0., 0., 0., 0.,\n",
              "          0., 0., 0., 0., 0., 0., 0., 0., 0., 0., 0., 0., 0., 0., 0., 0., 0.,\n",
              "          0., 0., 0., 0., 0., 0., 0., 0., 0., 0., 0., 0., 0., 0., 0., 0., 0.,\n",
              "          0., 0., 0., 0., 0., 0., 0., 0., 0., 0., 0., 0., 0., 0., 0., 0., 0.,\n",
              "          0., 0., 0., 0., 0., 0., 0., 0., 0., 0., 0., 0., 0., 0., 0., 0., 0.,\n",
              "          0., 0., 0., 0., 0., 0., 0., 0., 0., 0., 0., 0., 0., 0., 0., 0., 0.,\n",
              "          0., 0., 0., 0., 0., 0., 0., 0., 0., 0., 0., 0., 0., 0., 0., 0., 0.,\n",
              "          0., 0., 0., 0., 0., 0., 0., 0., 0., 0., 0., 0., 0., 0., 0., 0., 0.,\n",
              "          0., 0., 0., 0., 0., 0., 0., 0., 0., 0., 0., 0., 0., 0., 0., 0., 0.,\n",
              "          0., 0., 0., 0., 0., 0., 0., 0., 0., 0., 0., 0., 0., 0., 0., 0., 0.,\n",
              "          0., 0., 0., 0., 0., 0., 0., 0., 0., 0., 0., 0., 0., 0., 0., 0., 0.,\n",
              "          0., 0.], dtype=float32)},\n",
              "  'Dense_1': {'kernel': Array([[ 0.00014705,  0.01415326,  0.00799107, ..., -0.00362994,\n",
              "            0.06006067,  0.0064182 ],\n",
              "          [ 0.09075335,  0.0236803 ,  0.04037589, ..., -0.06559976,\n",
              "            0.08825235,  0.03280612],\n",
              "          [-0.04464974, -0.01514672,  0.01024886, ..., -0.04145579,\n",
              "            0.02610071,  0.08372014],\n",
              "          ...,\n",
              "          [ 0.05539734,  0.01981769,  0.02479855, ..., -0.07834151,\n",
              "           -0.01762478,  0.0532423 ],\n",
              "          [ 0.03220828,  0.01800948,  0.04149873, ..., -0.05146476,\n",
              "            0.06896847, -0.00088436],\n",
              "          [ 0.02728624, -0.07269163, -0.02060268, ...,  0.00496439,\n",
              "            0.0046747 ,  0.05045236]], dtype=float32),\n",
              "   'bias': Array([0., 0., 0., 0., 0., 0., 0., 0., 0., 0., 0., 0., 0., 0., 0., 0., 0.,\n",
              "          0., 0., 0., 0., 0., 0., 0., 0., 0., 0., 0., 0., 0., 0., 0., 0., 0.,\n",
              "          0., 0., 0., 0., 0., 0., 0., 0., 0., 0., 0., 0., 0., 0., 0., 0., 0.,\n",
              "          0., 0., 0., 0., 0., 0., 0., 0., 0., 0., 0., 0., 0., 0., 0., 0., 0.,\n",
              "          0., 0., 0., 0., 0., 0., 0., 0., 0., 0., 0., 0., 0., 0., 0., 0., 0.,\n",
              "          0., 0., 0., 0., 0., 0., 0., 0., 0., 0., 0., 0., 0., 0., 0., 0., 0.,\n",
              "          0., 0., 0., 0., 0., 0., 0., 0., 0., 0., 0., 0., 0., 0., 0., 0., 0.,\n",
              "          0., 0., 0., 0., 0., 0., 0., 0., 0., 0., 0., 0., 0., 0., 0., 0., 0.,\n",
              "          0., 0., 0., 0., 0., 0., 0., 0., 0., 0., 0., 0., 0., 0., 0., 0., 0.,\n",
              "          0., 0., 0., 0., 0., 0., 0., 0., 0., 0., 0., 0., 0., 0., 0., 0., 0.,\n",
              "          0., 0., 0., 0., 0., 0., 0., 0., 0., 0., 0., 0., 0., 0., 0., 0., 0.,\n",
              "          0., 0., 0., 0., 0., 0., 0., 0., 0., 0., 0., 0., 0., 0., 0., 0., 0.,\n",
              "          0., 0., 0., 0., 0., 0., 0., 0., 0., 0., 0., 0., 0., 0., 0., 0., 0.,\n",
              "          0., 0., 0., 0., 0., 0., 0., 0., 0., 0., 0., 0., 0., 0., 0., 0., 0.,\n",
              "          0., 0., 0., 0., 0., 0., 0., 0., 0., 0., 0., 0., 0., 0., 0., 0., 0.,\n",
              "          0.], dtype=float32)},\n",
              "  'Dense_2': {'kernel': Array([[ 9.79875475e-02, -2.27022171e-02,  2.69695446e-02, ...,\n",
              "           -9.90675911e-02,  3.82441543e-02, -8.13332349e-02],\n",
              "          [-5.54359928e-02,  8.12720135e-03,  4.35506226e-05, ...,\n",
              "            6.27105683e-02,  1.28856912e-01, -3.54182646e-02],\n",
              "          [ 9.96918082e-02,  5.35791405e-02, -1.06159439e-02, ...,\n",
              "           -9.74951126e-03, -8.51258114e-02,  9.30057988e-02],\n",
              "          ...,\n",
              "          [ 4.97104526e-02,  1.05459146e-01, -2.89997477e-02, ...,\n",
              "            5.92505485e-02,  8.82607233e-03,  3.85560878e-02],\n",
              "          [ 5.84368128e-03, -2.77808998e-02,  2.02680728e-03, ...,\n",
              "            7.98006542e-03, -1.02786951e-01, -3.46534587e-02],\n",
              "          [-5.11053577e-02, -3.54884043e-02,  1.00522056e-01, ...,\n",
              "            6.06986880e-03,  2.70892098e-03, -1.33229986e-01]],      dtype=float32),\n",
              "   'bias': Array([0., 0., 0., 0., 0., 0., 0., 0., 0., 0.], dtype=float32)}}}"
            ]
          },
          "metadata": {},
          "execution_count": 56
        }
      ],
      "source": [
        "# let's look at params, it should be a dictionary containing the parameters' names and values\n",
        "params"
      ]
    },
    {
      "cell_type": "code",
      "execution_count": 57,
      "metadata": {
        "id": "BqhSEzyc1QdY"
      },
      "outputs": [],
      "source": [
        "# Let's now see how the neural network output looks like:\n",
        "# the way models are called are through the apply function, that takes the parameters as an argument, and the inputs to the neural network. In this case, our images\n",
        "y = model.apply(params, x_batch)"
      ]
    },
    {
      "cell_type": "code",
      "execution_count": 59,
      "metadata": {
        "id": "VRLnu_vj1QdY"
      },
      "outputs": [],
      "source": [
        "\n",
        "# TODO: check the shape of the output, what were you expecting?\n",
        "\n",
        "expected_ouptut_shape = (64,10)\n",
        "assert y.shape == expected_ouptut_shape"
      ]
    },
    {
      "cell_type": "code",
      "execution_count": 60,
      "metadata": {
        "id": "SvZJKVI71Qda",
        "outputId": "66dad26e-3b2e-413b-f4b6-7e2ecc0b334b",
        "colab": {
          "base_uri": "https://localhost:8080/"
        }
      },
      "outputs": [
        {
          "output_type": "execute_result",
          "data": {
            "text/plain": [
              "(784, 512)"
            ]
          },
          "metadata": {},
          "execution_count": 60
        }
      ],
      "source": [
        "# You can have a look at the shape of the parameters of the first layer in the neural network, the Dense_0 layer\n",
        "params['params']['Dense_0']['kernel'].shape"
      ]
    },
    {
      "cell_type": "code",
      "execution_count": 61,
      "metadata": {
        "id": "1-fF2LH61Qda",
        "outputId": "9038c787-5cb3-4567-81ce-acced987c755",
        "colab": {
          "base_uri": "https://localhost:8080/",
          "height": 569
        }
      },
      "outputs": [
        {
          "output_type": "execute_result",
          "data": {
            "text/plain": [
              "(array([  0.,   0.,   0.,   0.,   0.,   0.,   0.,   0.,   0.,   0., 512.,\n",
              "          0.,   0.,   0.,   0.,   0.,   0.,   0.,   0.,   0.]),\n",
              " array([-0.5       , -0.44999999, -0.40000001, -0.34999999, -0.30000001,\n",
              "        -0.25      , -0.19999999, -0.15000001, -0.09999999, -0.04999998,\n",
              "         0.        ,  0.05000001,  0.10000002,  0.15000004,  0.19999999,\n",
              "         0.25      ,  0.30000001,  0.35000002,  0.40000004,  0.44999999,\n",
              "         0.5       ]),\n",
              " <BarContainer object of 20 artists>)"
            ]
          },
          "metadata": {},
          "execution_count": 61
        },
        {
          "output_type": "display_data",
          "data": {
            "text/plain": [
              "<Figure size 640x480 with 1 Axes>"
            ],
            "image/png": "[encoded data removed]"
          },
          "metadata": {}
        }
      ],
      "source": [
        "# let's look at the histograms of some of parameter values, that will show us how they were initialized\n",
        "# so it looks like the biases were initialized to 0, but not the kernels , that seem to be Gaussian distributed\n",
        "plt.hist(params['params']['Dense_0']['kernel'][0], bins=20, alpha=0.5,)\n",
        "plt.hist(params['params']['Dense_0']['kernel'][10], bins=20, alpha=0.5,)\n",
        "plt.hist(params['params']['Dense_0']['bias'], bins=20, alpha=0.5,)"
      ]
    },
    {
      "cell_type": "markdown",
      "metadata": {
        "id": "cbSGC-cX1Qdb"
      },
      "source": [
        "## 📐 Building Block #3: The Loss Function\n",
        "\n",
        "Now that we've laid out our neural network's structure, we need a way to measure how well it's performing.\n",
        "\n",
        "### 🎯 Cross-Entropy Loss\n",
        "\n",
        "For our digit classification task, we'll use the cross-entropy loss. This is the go-to loss function for multi-class classification problems like ours.\n",
        "\n",
        "$$ L = -\\sum_{i=1}^{C} y_i \\log(p(\\hat{y}_i)) $$\n",
        "\n",
        "Where:\n",
        "- $L$ is the loss\n",
        "- $C$ is the number of classes (in our case, 10 digits)\n",
        "- $y_i$ is the true class $i$ (1 for the correct digit, 0 for others)\n",
        "- $p(\\hat{y}_i)$ is the predicted probability of class $i$\n",
        "\n",
        "In practice, $y$ is usually a one-hot encoded vector, and $p(\\hat{y})$ comes from applying softmax to our model's output:\n",
        "\n",
        "$$ p(\\hat{y}) = \\text{softmax}(z_i) = \\frac{\\exp^{z_i}}{\\sum_{j=1}^C \\exp^{z_j}} $$\n",
        "\n",
        "For numerical stability, we will compute the log softmax, which will give us the log prbability that we need in the cross entropy loss. Given that $$ \\log(\\frac{a}{b}) = \\log a - \\log b $$ the log softmax is then given by\n",
        "\n",
        "$$ \\log \\text{softmax}(z_i) = z_i - \\log \\left(\\sum_{j=1}^C \\exp^{z_j} \\right) $$"
      ]
    },
    {
      "cell_type": "code",
      "execution_count": 62,
      "metadata": {
        "id": "w9i8SQFa1Qdb"
      },
      "outputs": [],
      "source": [
        "def log_softmax(logits):\n",
        "    # First because we are going to exponentiate the logits, we need to make sure they are not too large,\n",
        "    # to avoid numerical instability in exp of a large number.\n",
        "    # Note that shifting the logits by a constant does not change the softmax probabilities\n",
        "    shifted_logits = logits - jnp.max(logits, axis=-1, keepdims=True)\n",
        "    # Now you can compute the log softmax using the shifted logits\n",
        "    # TODO: Write down the log softmax for the loss function\n",
        "\n",
        "    log_softmax_value = shifted_logits - jnp.log(jnp.sum(jnp.exp(shifted_logits), axis=-1, keepdims=True))\n",
        "\n",
        "    return log_softmax_value\n",
        "\n",
        "def cross_entropy_loss(logits, labels, num_classes=10,):\n",
        "    log_probabilities = log_softmax(logits)\n",
        "    # one_hot will give us y_i (which is an array of zeros with a 1 at the index of the true label)\n",
        "    one_hot = jax.nn.one_hot(labels, num_classes=num_classes)\n",
        "    return -jnp.mean(jnp.sum(one_hot * log_probabilities, axis=-1))"
      ]
    },
    {
      "cell_type": "code",
      "execution_count": 63,
      "metadata": {
        "id": "wsCmqxnw1Qdb"
      },
      "outputs": [],
      "source": [
        "\n",
        "# TODO: Check that the loss works as expected:\n",
        "\n",
        "assert cross_entropy_loss(jnp.array([1000., 0.,]), jnp.array(0.), num_classes=2,) == 0.\n",
        "assert cross_entropy_loss(jnp.array([0., 1000.,]), jnp.array(0.), num_classes=2,) > 0."
      ]
    },
    {
      "cell_type": "markdown",
      "metadata": {
        "id": "2Pouv_7V1Qdc"
      },
      "source": [
        "## 🔧 Building Block #4: The Optimizer\n",
        "\n",
        "Now we need to be able to fine-tune the parameters of our neural network such that we can minimize the loss function. An optimizer is an algorithm that adjusts the parameters of our model to minimize the loss.\n",
        "\n",
        "### 💡 Popular Optimizers\n",
        "\n",
        "While there are many optimizers out there, we'll focus on two common choices:\n",
        "\n",
        "1. **Stochastic Gradient Descent (SGD)**: The classic choice. Simple but effective.\n",
        "2. **Adam**: An adaptive method that often converges faster. It's like SGD with superpowers!\n",
        "\n"
      ]
    },
    {
      "cell_type": "code",
      "execution_count": 64,
      "metadata": {
        "id": "pZDZucO-1Qdc"
      },
      "outputs": [],
      "source": [
        "\n",
        "import optax\n",
        "\n",
        "learning_rate = 1.e-3\n",
        "optimizer = optax.adam(learning_rate)\n",
        "opt_state = optimizer.init(params)"
      ]
    },
    {
      "cell_type": "code",
      "execution_count": 65,
      "metadata": {
        "id": "hTCuDi4l1Qdd"
      },
      "outputs": [],
      "source": [
        "# The training step:\n",
        "# computes the loss function for one batch of examples, and uses its gradients to update the parameters\n",
        "\n",
        "@jax.jit\n",
        "def train_step(params, opt_state, batch):\n",
        "    images, labels = batch\n",
        "    def loss_fn(params):\n",
        "        logits = model.apply(params, images)\n",
        "        loss = cross_entropy_loss(logits, labels)\n",
        "        return loss\n",
        "    loss, grads = jax.value_and_grad(loss_fn)(params)\n",
        "    updates, opt_state = optimizer.update(grads, opt_state)\n",
        "    params = optax.apply_updates(params, updates)\n",
        "    return params, opt_state, loss\n",
        "\n"
      ]
    },
    {
      "cell_type": "code",
      "execution_count": 66,
      "metadata": {
        "id": "8Q8XJuDr1Qdd",
        "outputId": "4e2e9669-19fa-4e6b-9ca5-4101d1e5cd36",
        "colab": {
          "base_uri": "https://localhost:8080/"
        }
      },
      "outputs": [
        {
          "output_type": "stream",
          "name": "stderr",
          "text": [
            "Training: 100%|██████████| 1000/1000 [00:27<00:00, 35.91step/s, loss=0.23449355]\n"
          ]
        }
      ],
      "source": [
        "from tqdm import tqdm\n",
        "\n",
        "# Now we will train the model for many steps, in each step we update the parameters with the gradients of the loss function\n",
        "num_steps = 1_000\n",
        "\n",
        "\n",
        "train_loss = []\n",
        "\n",
        "with tqdm(total=num_steps, desc='Training', unit='step') as pbar:\n",
        "    for step in range(num_steps):\n",
        "        try:\n",
        "            images, labels = next(train_loader)\n",
        "        except StopIteration:\n",
        "            # Once the dataset is empty, we will reinitialize the data loader to keep training\n",
        "            train_loader = iter(train_dataloader)\n",
        "            images, labels = next(train_loader)\n",
        "        images, labels = jnp.array(images), jnp.array(labels)\n",
        "\n",
        "        params, opt_state, loss = train_step(params, opt_state, (images, labels))\n",
        "        train_loss.append(loss)\n",
        "        pbar.set_postfix(loss=loss)\n",
        "        pbar.update(1)\n"
      ]
    },
    {
      "cell_type": "code",
      "execution_count": 67,
      "metadata": {
        "id": "ZJuKc-nF1Qde",
        "outputId": "cb569846-2406-456e-a1b0-bc7f909682af",
        "colab": {
          "base_uri": "https://localhost:8080/",
          "height": 447
        }
      },
      "outputs": [
        {
          "output_type": "execute_result",
          "data": {
            "text/plain": [
              "[<matplotlib.lines.Line2D at 0x7e0844dbe850>]"
            ]
          },
          "metadata": {},
          "execution_count": 67
        },
        {
          "output_type": "display_data",
          "data": {
            "text/plain": [
              "<Figure size 640x480 with 1 Axes>"
            ],
            "image/png": "[encoded data removed]"
          },
          "metadata": {}
        }
      ],
      "source": [
        "plt.plot(train_loss)"
      ]
    },
    {
      "cell_type": "markdown",
      "metadata": {
        "id": "t2DBOKcj1Qde"
      },
      "source": [
        "Now we will use an independent test set to asses how good our model truly is"
      ]
    },
    {
      "cell_type": "code",
      "execution_count": 68,
      "metadata": {
        "id": "Y0Co-Fqu1Qdf"
      },
      "outputs": [],
      "source": [
        "test_dataset = torchvision.datasets.MNIST(root='./data', train=False, download=True, transform=transform)\n",
        "test_loader = DataLoader(test_dataset, batch_size=100, shuffle=False)\n"
      ]
    },
    {
      "cell_type": "code",
      "execution_count": 71,
      "metadata": {
        "id": "QxRRG0-a1Qdf",
        "outputId": "642a2110-3691-4dde-eb92-7d631912d5b1",
        "colab": {
          "base_uri": "https://localhost:8080/"
        }
      },
      "outputs": [
        {
          "output_type": "stream",
          "name": "stdout",
          "text": [
            "Final Test Accuracy: 94.24%\n"
          ]
        }
      ],
      "source": [
        "# Final evaluation on the test set\n",
        "test_accuracy = 0\n",
        "num_batches = 0\n",
        "for batch in test_loader:\n",
        "    # Get one batch of examples\n",
        "    images, labels = batch\n",
        "    images, labels = jnp.array(images), jnp.array(labels)\n",
        "    # TODO: Get the model predictions by finding the class with the highest probability\n",
        "    # Tip: first get the logits by calling the model on the images\n",
        "    logits = model.apply(params, images)\n",
        "    probability = jax.nn.softmax(logits)\n",
        "    predictions = jnp.argmax(probability, axis=-1)\n",
        "\n",
        "    test_accuracy += jnp.mean(predictions == labels)\n",
        "    num_batches += 1\n",
        "test_accuracy /= num_batches\n",
        "print(f'Final Test Accuracy: {test_accuracy * 100:.2f}%')"
      ]
    },
    {
      "cell_type": "code",
      "execution_count": 72,
      "metadata": {
        "id": "IzZKzfEl1Qdg",
        "outputId": "ea1c8376-bb8a-475d-80db-162a57028884",
        "colab": {
          "base_uri": "https://localhost:8080/",
          "height": 1000
        }
      },
      "outputs": [
        {
          "output_type": "display_data",
          "data": {
            "text/plain": [
              "<Figure size 1000x1500 with 10 Axes>"
            ],
            "image/png": "[encoded data removed]"
          },
          "metadata": {}
        }
      ],
      "source": [
        "# let's look at the output probabilities for a few examples from the last batch computed on the previous cell\n",
        "\n",
        "fig, axs = plt.subplots(5, 2, figsize=(10, 15))\n",
        "\n",
        "for i in range(10):\n",
        "    img = images[i][:,:,0]\n",
        "    label = labels[i]\n",
        "    prob = probability[i]\n",
        "    ax = axs[i // 2, i % 2]\n",
        "    ax.imshow(img.squeeze(), cmap='gray')\n",
        "    ax.axis('off')\n",
        "    ax.set_title(f'Label: {label}')\n",
        "\n",
        "    ax_prob = ax.inset_axes([1.1, 0.1, 0.8, 0.8])\n",
        "    ax_prob.bar(range(10), prob)\n",
        "    ax_prob.set_xticks(range(10))\n",
        "    ax_prob.set_ylim(0, 1)\n",
        "    ax_prob.set_title('Probabilities')\n",
        "\n",
        "#plt.tight_layout()\n",
        "plt.show()"
      ]
    },
    {
      "cell_type": "markdown",
      "metadata": {
        "id": "JDlHzqM91Qdh"
      },
      "source": [
        "Now you can play around with the model outputs to check that they are sensible, and try to improve the model by adding more layers, changing the learning rate, or the optimizer."
      ]
    },
    {
      "cell_type": "markdown",
      "metadata": {
        "id": "7UqbVoGG1Qdh"
      },
      "source": [
        "Extra question: how would you assess whether the probability outputs themselves are meaningful (i.e., are well callibrated?)"
      ]
    }
  ],
  "metadata": {
    "kernelspec": {
      "display_name": "Python 3",
      "language": "python",
      "name": "python3"
    },
    "language_info": {
      "codemirror_mode": {
        "name": "ipython",
        "version": 3
      },
      "file_extension": ".py",
      "mimetype": "text/x-python",
      "name": "python",
      "nbconvert_exporter": "python",
      "pygments_lexer": "ipython3",
      "version": "3.11.3"
    },
    "colab": {
      "provenance": []
    }
  },
  "nbformat": 4,
  "nbformat_minor": 0
}